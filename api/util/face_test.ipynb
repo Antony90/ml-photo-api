{
 "cells": [
  {
   "cell_type": "code",
   "execution_count": 1,
   "metadata": {},
   "outputs": [
    {
     "data": {
      "text/plain": [
       "'z:\\\\dev\\\\image-scene-classifier\\\\api\\\\util'"
      ]
     },
     "execution_count": 1,
     "metadata": {},
     "output_type": "execute_result"
    }
   ],
   "source": [
    "import face_recognition\n",
    "import numpy as np\n",
    "import os, json\n",
    "os.getcwd()"
   ]
  },
  {
   "cell_type": "code",
   "execution_count": 2,
   "metadata": {},
   "outputs": [],
   "source": [
    "small = face_recognition.load_image_file(\"elon-small.jpg\")\n",
    "enc = face_recognition.face_encodings(small)[0]\n",
    "\n",
    "# large = face_recognition.load_image_file(\"elon-large.jpg\")\n",
    "# large_encodings = face_recognition.face_encodings(large)[0]\n",
    "\n",
    "# not_face = face_recognition.load_image_file(\"tree.jpg\")\n"
   ]
  },
  {
   "cell_type": "code",
   "execution_count": 11,
   "metadata": {},
   "outputs": [],
   "source": [
    "# Compare large to list of comparison encodings\n",
    "# face_recognition.face_distance([small_encodings], large_encodings)\n",
    "# face_recognition.compare_faces([small_encodings], large_encodings)\n",
    "\n",
    "str_enc= str(list(enc))\n",
    "arr = np.array(json.loads(str_enc))\n",
    "\n",
    "back_to_str = str(list(arr))\n",
    "back_to_arr = np.array(json.loads(back_to_str))\n",
    "\n",
    "assert np.count_nonzero(back_to_arr == arr) == 128\n",
    "assert back_to_str == str_enc"
   ]
  },
  {
   "cell_type": "code",
   "execution_count": null,
   "metadata": {},
   "outputs": [],
   "source": []
  }
 ],
 "metadata": {
  "kernelspec": {
   "display_name": "Python 3.9.7 64-bit",
   "language": "python",
   "name": "python3"
  },
  "language_info": {
   "codemirror_mode": {
    "name": "ipython",
    "version": 3
   },
   "file_extension": ".py",
   "mimetype": "text/x-python",
   "name": "python",
   "nbconvert_exporter": "python",
   "pygments_lexer": "ipython3",
   "version": "3.9.7"
  },
  "orig_nbformat": 4,
  "vscode": {
   "interpreter": {
    "hash": "2179d262716b6176702509174185481b2f335053af54fdcdf1fcdd5a2abb3815"
   }
  }
 },
 "nbformat": 4,
 "nbformat_minor": 2
}
